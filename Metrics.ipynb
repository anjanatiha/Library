{
 "cells": [
  {
   "cell_type": "code",
   "execution_count": null,
   "metadata": {},
   "outputs": [],
   "source": [
    "import numpy as np\n",
    "from sklearn import metrics\n",
    "\n",
    "x=accuracy_score(y_true, y_pred)\n",
    "x=accuracy_score(y_true, y_pred, normalize=False)\n",
    "\n",
    "fpr, tpr, thresholds = metrics.roc_curve(y_true, y_pred, pos_label=2)\n",
    "x=metrics.auc(fpr, tpr)\n",
    "\n",
    "\n",
    "x=metrics.average_precision_score(y_true, y_pred) \n",
    "\n",
    "x=metrics.balanced_accuracy_score(y_true, y_pred)\n",
    "\n",
    "x=metrics.brier_score_loss(y_true, 1-y_pred, pos_label=1) \n",
    "\n",
    "x=metrics.f1_score(y_true, y_pred, average='micro')\n",
    "\n",
    "x=metrics.f1_score(y_true, y_pred, average='macro')\n",
    "\n",
    "x=metrics.f1_score(y_true, y_pred, average='weighted')\n",
    "\n",
    "x=metrics.f1_score(y_true, y_pred, average=None)\n",
    "\n",
    "\n",
    "x=metrics.fbeta_score(y_true, y_pred, average='macro', beta=0.5)\n",
    "\n",
    "x=metrics.fbeta_score(y_true, y_pred, average='micro', beta=0.5)\n",
    "\n",
    "x=metrics.fbeta_score(y_true, y_pred, average='weighted', beta=0.5)\n",
    "\n",
    "x=metrics.fbeta_score(y_true, y_pred, average=None, beta=0.5)\n",
    "\n",
    "x=metrics.hamming_loss(y_true, y_pred)\n",
    "\n",
    "x=metrics.roc_auc_score(y_true, y_pred)\n",
    "\n",
    "print(x)\n",
    "\n",
    "\n"
   ]
  }
 ],
 "metadata": {
  "kernelspec": {
   "display_name": "Python 3",
   "language": "python",
   "name": "python3"
  },
  "language_info": {
   "codemirror_mode": {
    "name": "ipython",
    "version": 3
   },
   "file_extension": ".py",
   "mimetype": "text/x-python",
   "name": "python",
   "nbconvert_exporter": "python",
   "pygments_lexer": "ipython3",
   "version": "3.6.5"
  }
 },
 "nbformat": 4,
 "nbformat_minor": 2
}
