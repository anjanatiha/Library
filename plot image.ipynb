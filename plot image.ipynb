{
 "cells": [
  {
   "cell_type": "code",
   "execution_count": null,
   "metadata": {},
   "outputs": [],
   "source": [
    "import matplotlib.pyplot as plt\n",
    "from matplotlib.pyplot import figure\n",
    "import matplotlib.image as mpimg\n",
    "\n",
    "import seaborn as sns\n",
    "\n",
    "import cv2\n",
    "\n",
    "%matplotlib inline\n"
   ]
  },
  {
   "cell_type": "code",
   "execution_count": null,
   "metadata": {},
   "outputs": [],
   "source": [
    "def plot_single_image(image_file_path):\n",
    "    fig, axs = plt.subplots(\n",
    "        nrows=1, ncols=1, figsize=(2.5,2.5),dpi=100, facecolor='w', edgecolor='k', \n",
    "        subplot_kw={'xticks': [], 'yticks': []})\n",
    "        \n",
    "#     img = cv2.imread(img_filepath, 1)\n",
    "    fig, ax = plt.fig\n",
    "    img = plt.imread(img_filepath)\n",
    "    plt.title(img_filepath.split(\"/\")[-1])\n",
    "    plt.imshow(img)\n",
    "\n",
    "    plt.xticks([])\n",
    "    plt.yticks([])\n",
    "\n",
    "    fig.savefig(plot_params[\"sample_img\"], dpi=100)\n",
    "        \n",
    "    plt.tight_layout()\n",
    "    plt.show()"
   ]
  }
 ],
 "metadata": {
  "kernelspec": {
   "display_name": "Python 3",
   "language": "python",
   "name": "python3"
  },
  "language_info": {
   "codemirror_mode": {
    "name": "ipython",
    "version": 3
   },
   "file_extension": ".py",
   "mimetype": "text/x-python",
   "name": "python",
   "nbconvert_exporter": "python",
   "pygments_lexer": "ipython3",
   "version": "3.6.5"
  }
 },
 "nbformat": 4,
 "nbformat_minor": 2
}
