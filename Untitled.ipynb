{
 "cells": [
  {
   "cell_type": "code",
   "execution_count": null,
   "metadata": {},
   "outputs": [],
   "source": [
    "# show barplot\n",
    "def bar_plot(x, y, plot_property):\n",
    "    if subplot:\n",
    "        plt.subplot(plot_property['subplot'])\n",
    "    sns.barplot(x=x, y=y)\n",
    "    plt.title(plot_property['title'], fontsize=plot_property['title_fontsize'])\n",
    "    plt.xlabel(plot_property['xlabel'], fontsize=plot_property['label_fontsize'])\n",
    "    plt.ylabel(plot_property['ylabel'], fontsize=plot_property['label_fontsize'])\n",
    "    plt.xticks(range(len(x)), x)"
   ]
  }
 ],
 "metadata": {
  "kernelspec": {
   "display_name": "Python 3",
   "language": "python",
   "name": "python3"
  },
  "language_info": {
   "codemirror_mode": {
    "name": "ipython",
    "version": 3
   },
   "file_extension": ".py",
   "mimetype": "text/x-python",
   "name": "python",
   "nbconvert_exporter": "python",
   "pygments_lexer": "ipython3",
   "version": "3.6.5"
  }
 },
 "nbformat": 4,
 "nbformat_minor": 2
}
