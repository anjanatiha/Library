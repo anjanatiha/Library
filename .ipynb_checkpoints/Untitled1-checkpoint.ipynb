{
 "cells": [
  {
   "cell_type": "code",
   "execution_count": null,
   "metadata": {},
   "outputs": [],
   "source": [
    "import matplotlib.pyplot as plt\n",
    "from matplotlib.pyplot import figure\n",
    "import matplotlib.image as mpimg\n",
    "\n",
    "import seaborn as sns\n",
    "\n",
    "import cv2\n",
    "\n",
    "%matplotlib inline\n"
   ]
  },
  {
   "cell_type": "code",
   "execution_count": null,
   "metadata": {},
   "outputs": [],
   "source": [
    "# show barplot\n",
    "def bar_plot(x, y):\n",
    "    plt.subplot(121)\n",
    "    sns.barplot(x=x, y=y)\n",
    "    plt.title(\"title\", fontsize=12)\n",
    "    plt.xlabel('xlabel', fontsize='label_fontsize')\n",
    "    plt.ylabel('ylabel', fontsize='label_fontsize')\n",
    "    plt.xticks(range(len(x)), x)\n",
    "    plt.show()"
   ]
  }
 ],
 "metadata": {
  "kernelspec": {
   "display_name": "Python 3",
   "language": "python",
   "name": "python3"
  },
  "language_info": {
   "codemirror_mode": {
    "name": "ipython",
    "version": 3
   },
   "file_extension": ".py",
   "mimetype": "text/x-python",
   "name": "python",
   "nbconvert_exporter": "python",
   "pygments_lexer": "ipython3",
   "version": "3.6.5"
  }
 },
 "nbformat": 4,
 "nbformat_minor": 2
}
